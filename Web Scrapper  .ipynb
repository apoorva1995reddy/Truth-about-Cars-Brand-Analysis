{
 "cells": [
  {
   "cell_type": "code",
   "execution_count": 5,
   "metadata": {},
   "outputs": [],
   "source": [
    "# Web scraper for Edmunds\n",
    "# Selenium is used to handle the javascript on a website\n",
    "\n",
    "#Importing libraries\n",
    "from selenium import webdriver\n",
    "from selenium.webdriver.common.keys import Keys\n",
    "from bs4 import BeautifulSoup\n",
    "import re\n",
    "import pandas as pd\n",
    "import os     #to manipulate files\n",
    "\n",
    "import warnings\n",
    "warnings.filterwarnings('ignore')"
   ]
  },
  {
   "cell_type": "code",
   "execution_count": 6,
   "metadata": {},
   "outputs": [],
   "source": [
    "chrome_path = r'C:\\chromedriver'\n",
    "# prepend it with r because of the backslash characters\n",
    "\n",
    "driver = webdriver.Chrome(chrome_path) # This will open up a chrome window\n",
    "\n",
    "page = 2557\n",
    "url = \"https://forums.edmunds.com/discussion/18576/general/x/edmunds-members-cars-conversations/p\" + str(page)\n",
    "\n",
    "driver.get(url)  # Open that website"
   ]
  },
  {
   "cell_type": "markdown",
   "metadata": {},
   "source": [
    " Retrieving almost 5000 posts from Edmund's car discussion forum in 'general' category conversations "
   ]
  },
  {
   "cell_type": "code",
   "execution_count": 7,
   "metadata": {},
   "outputs": [],
   "source": [
    "userlist = []\n",
    "datelist = []\n",
    "postlist = []\n",
    "quotelist = []\n",
    "while len(postlist)<5000:\n",
    "    #User\n",
    "    users = driver.find_elements_by_class_name('Username')\n",
    "    for user in users:\n",
    "        userlist.append(user.text)\n",
    "    \n",
    "    #Date\n",
    "    dates = driver.find_elements_by_class_name('DateCreated')\n",
    "    for date in dates:\n",
    "        datelist.append(date.text)\n",
    "    \n",
    "    # This is the list of all the comments\n",
    "    posts = driver.find_elements_by_class_name('Item-Body')\n",
    "    for post in posts:\n",
    "        postlist.append(post.text)\n",
    "\n",
    "    # This is the list of the blockquotes that you don't want\n",
    "    quotes = driver.find_elements_by_class_name('Quote')\n",
    "    for quote in quotes:\n",
    "        quotelist.append(quote.text)\n",
    "        \n",
    "    page = page - 1\n",
    "    url = \"https://forums.edmunds.com/discussion/18576/general/x/edmunds-members-cars-conversations/p\" + str(page)\n",
    "\n",
    "    driver.get(url)\n",
    "    "
   ]
  },
  {
   "cell_type": "code",
   "execution_count": 8,
   "metadata": {},
   "outputs": [],
   "source": [
    "# Now you have to delete quotes from the posts\n",
    "for j in range(0,len(quotelist)):\n",
    "    for i in range(0,len(postlist)):\n",
    "        if (quotelist[j] in postlist[i]):\n",
    "            postlist[i]=postlist[i].replace(quotelist[j],'')   "
   ]
  },
  {
   "cell_type": "code",
   "execution_count": 9,
   "metadata": {},
   "outputs": [],
   "source": [
    "df_raw = pd.DataFrame(datelist)\n",
    "df_raw['Users'] = userlist\n",
    "df_raw['Text'] = postlist\n",
    "df_raw.columns = ['Date','User','Text']"
   ]
  },
  {
   "cell_type": "code",
   "execution_count": 11,
   "metadata": {},
   "outputs": [],
   "source": [
    "postfile_name = r'posts.csv'\n",
    "df_raw.to_csv(postfile_name)"
   ]
  }
 ],
 "metadata": {
  "kernelspec": {
   "display_name": "Python 2",
   "language": "python",
   "name": "python2"
  },
  "language_info": {
   "codemirror_mode": {
    "name": "ipython",
    "version": 2
   },
   "file_extension": ".py",
   "mimetype": "text/x-python",
   "name": "python",
   "nbconvert_exporter": "python",
   "pygments_lexer": "ipython2",
   "version": "2.7.15"
  }
 },
 "nbformat": 4,
 "nbformat_minor": 2
}
